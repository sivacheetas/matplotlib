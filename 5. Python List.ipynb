{
 "cells": [
  {
   "cell_type": "markdown",
   "metadata": {},
   "source": [
    "#  Python Data Structures\n"
   ]
  },
  {
   "cell_type": "markdown",
   "metadata": {},
   "source": [
    "Data Types in Python\n",
    "1. Python List\n",
    "2. Python Tuple\n",
    "3. Python Set\n",
    "4. Python Dictionary\n",
    "5. Conversion between data types"
   ]
  },
  {
   "cell_type": "markdown",
   "metadata": {},
   "source": [
    "# Python List\n",
    " we'll learn everything about Python lists; \n"
   ]
  },
  {
   "cell_type": "markdown",
   "metadata": {},
   "source": [
    "1. How to create a list?\n",
    "2. How to access elements from a list?\n",
    "        List Index\n",
    "        Negative Indexing\n",
    "3. How to slice lists in Python?\n",
    "4. How to change or add elements to a list?\n",
    "5. How to delete or remove elements from a list?\n",
    "6. Python List Methods\n",
    "7. List Comprehension\n",
    "8. Other List Operations in Python\n",
    "       List Membership Test\n",
    "       Iterating Through a List\n",
    "       Built-in Functions with List\n",
    "       \n",
    " Python offers a range of compound datatypes often referred to as sequences. List is one of the most frequently used and very versatile datatype used in Python."
   ]
  },
  {
   "cell_type": "markdown",
   "metadata": {},
   "source": [
    "# How to create a list?"
   ]
  },
  {
   "cell_type": "markdown",
   "metadata": {},
   "source": [
    "In Python programming, a list is created by placing all the items (elements) inside a square bracket [ ], separated by commas.\n",
    "\n",
    "It can have any number of items and they may be of different types (integer, float, string, Complex etc.).\n"
   ]
  },
  {
   "cell_type": "code",
   "execution_count": 3,
   "metadata": {},
   "outputs": [
    {
     "name": "stdout",
     "output_type": "stream",
     "text": [
      "<class 'list'> [] Empty list\n",
      "[1, 2, 3]\n",
      "[1, 'Hello', 3.4, (3+5j)]\n"
     ]
    }
   ],
   "source": [
    "# empty list\n",
    "a  = []\n",
    "print(type(a),a,\"Empty list\")\n",
    "# list of integers\n",
    "int_list = [1, 2, 3]\n",
    "print(int_list)\n",
    "\n",
    "# list with mixed datatypes\n",
    "mixed_list = [1, \"Hello\", 3.4, 2j+3j+3]\n",
    "print(mixed_list)"
   ]
  },
  {
   "cell_type": "markdown",
   "metadata": {},
   "source": [
    " Also, a list can even have another list as an item. This is called nested list."
   ]
  },
  {
   "cell_type": "code",
   "execution_count": null,
   "metadata": {},
   "outputs": [],
   "source": [
    "# nested list\n",
    "nested_list = [\"mouse\", [8, 4, 6], ['a']]\n",
    "print(nested_list)"
   ]
  },
  {
   "cell_type": "markdown",
   "metadata": {},
   "source": [
    "# How to access elements from a list?\n",
    "There are various ways in which we can access the elements of a list."
   ]
  },
  {
   "cell_type": "markdown",
   "metadata": {},
   "source": [
    "List Index\n",
    "We can use the index operator [] to access an item in a list. Index starts from 0. So, a list having 5 elements will have index from 0 to 4.\n",
    "\n",
    "Trying to access an element other that this will raise an IndexError. The index must be an integer. We can't use float or other types, this will result into TypeError.\n",
    "\n",
    "Nested list are accessed using nested indexing."
   ]
  },
  {
   "cell_type": "code",
   "execution_count": null,
   "metadata": {},
   "outputs": [],
   "source": [
    "my_list = ['p','y','t','h','o','n' \"hello\"]\n",
    "\n",
    "print(my_list[0])\n",
    "print(my_list[-1])\n",
    "\n",
    "# Output: t\n",
    "print(my_list[2])\n",
    "\n",
    "# Output: o\n",
    "print(my_list[4])\n",
    "print(my_list[1:5])\n",
    "\n",
    "# Error! Only integer can be used for indexing\n",
    "# my_list[4.0]\n",
    "\n",
    "# Nested List\n",
    "n_list = [\"Happy\", [2,0,1,5]]\n",
    "\n",
    "# Nested indexing\n",
    "\n",
    "# Output: a\n",
    "print(n_list[0][1])    \n",
    "\n",
    "# Output: 5\n",
    "print(n_list[1][3])\n"
   ]
  },
  {
   "cell_type": "markdown",
   "metadata": {},
   "source": [
    "Negative indexing\n",
    "Python allows negative indexing for its sequences. The index of -1 refers to the last item, -2 to the second last item and so on."
   ]
  },
  {
   "cell_type": "code",
   "execution_count": null,
   "metadata": {},
   "outputs": [],
   "source": [
    "my_list = ['p','r','o','b','e']\n",
    "\n",
    "# Output: e\n",
    "print(my_list[-1])\n",
    "\n",
    "# Output: p\n",
    "print(my_list[-5])"
   ]
  },
  {
   "cell_type": "markdown",
   "metadata": {},
   "source": [
    "# How to slice lists in Python?"
   ]
  },
  {
   "cell_type": "markdown",
   "metadata": {},
   "source": [
    "We can access a range of items in a list by using the slicing operator (colon)."
   ]
  },
  {
   "cell_type": "code",
   "execution_count": 1,
   "metadata": {},
   "outputs": [
    {
     "name": "stdout",
     "output_type": "stream",
     "text": [
      "['o', 'g', 'r']\n",
      "['p', 'r']\n",
      "['a', 'm']\n",
      "['p', 'r', 'o', 'g', 'r', 'a', 'm']\n"
     ]
    }
   ],
   "source": [
    "my_list = ['p','r','o','g','r','a','m']\n",
    "# elements 3rd to 5th\n",
    "print(my_list[2:5])\n",
    "\n",
    "# elements beginning to 4th\n",
    "print(my_list[:-5])\n",
    "\n",
    "# elements 6th to end\n",
    "print(my_list[5:])\n",
    "\n",
    "# elements beginning to end\n",
    "print(my_list[:])"
   ]
  },
  {
   "cell_type": "markdown",
   "metadata": {},
   "source": [
    "Slicing can be best visualized by considering the index to be between the elements as shown below. So if we want to access a range, we need two index that will slice that portion from the list."
   ]
  },
  {
   "cell_type": "markdown",
   "metadata": {},
   "source": [
    "# List Methods:"
   ]
  },
  {
   "cell_type": "markdown",
   "metadata": {},
   "source": [
    "Python has some list methods that you can use to perform frequency occurring task (related to list) with ease. For example, if you want to add element to a list, you can use append() method.\n",
    "\n",
    "The page contains all methods of list objects. Also, the page includes built-in functions that can take list as a parameter and perform some task. For example, all() function returns True if all elements of an list (iterable) is true. If not, it returns False."
   ]
  },
  {
   "cell_type": "markdown",
   "metadata": {},
   "source": [
    "Method\tDescription\n",
    "append()\tAdd Single Element to The List\n",
    "extend()\tAdd Elements of a List to Another List\n",
    "insert()\tInserts Element to The List\n",
    "remove()\tRemoves Element from the List\n",
    "index()\treturns smallest index of element in list\n",
    "count()\treturns occurrences of element in a list\n",
    "pop()\tRemoves Element at Given Index\n",
    "reverse()\tReverses a List\n",
    "sort()\tsorts elements of a list\n",
    "copy()\tReturns Shallow Copy of a List\n",
    "clear()\tRemoves all Items from the List\n",
    "any()\tChecks if any Element of an Iterable is True\n",
    "all()\treturns true when all elements in iterable is true\n",
    "ascii()\tReturns String Containing Printable Representation\n",
    "bool()\tConverts a Value to Boolean\n",
    "enumerate()\tReturns an Enumerate Object\n",
    "filter()\tconstructs iterator from elements which are true\n",
    "iter()\treturns iterator for an object\n",
    "list() Function\tcreates list in Python\n",
    "len()\tReturns Length of an Object\n",
    "max()\treturns largest element\n",
    "min()\treturns smallest element\n",
    "map()\tApplies Function and Returns a List\n",
    "reversed()\treturns reversed iterator of a sequence\n",
    "slice()\tcreates a slice object specified by range()\n",
    "sorted()\treturns sorted list from a given iterable\n",
    "sum()\tAdd items of an Iterable\n",
    "zip()\tReturns an Iterator of Tuples"
   ]
  },
  {
   "cell_type": "code",
   "execution_count": 4,
   "metadata": {},
   "outputs": [
    {
     "name": "stdout",
     "output_type": "stream",
     "text": [
      "['P', 'y']\n"
     ]
    }
   ],
   "source": [
    "language = ['P', 'y', 't', 'h', 'o', 'n']\n",
    "print(language[:-4])"
   ]
  },
  {
   "cell_type": "markdown",
   "metadata": {},
   "source": [
    "### Satcks using List \n",
    "\n",
    "1. Stack Principal is Last in Fast out [LIFO/ FILO]\n",
    "2. To add an iteam to top of the satck we have use <variable_name>.append() Method\n",
    "3. To Remove the iteam from top we have use <variable_name>.pop() Method"
   ]
  },
  {
   "cell_type": "code",
   "execution_count": 14,
   "metadata": {},
   "outputs": [
    {
     "name": "stdout",
     "output_type": "stream",
     "text": [
      "[3, 4, 5, 6, 7]\n",
      "[3, 4, 5, 6]\n"
     ]
    }
   ],
   "source": [
    "stack = [3,4,5]\n",
    "stack.append(6)\n",
    "stack.append(7)\n",
    "print(stack)\n",
    "stack.pop()\n",
    "print(stack)"
   ]
  },
  {
   "cell_type": "markdown",
   "metadata": {},
   "source": [
    "### Queues in List\n",
    "1. Queues Principal is First in First Out[FIFO /LILO ]\n",
    "2. To implement queue we have use collections.deque which was designed to have fast appends and pop from both ends"
   ]
  },
  {
   "cell_type": "code",
   "execution_count": 12,
   "metadata": {},
   "outputs": [
    {
     "name": "stdout",
     "output_type": "stream",
     "text": [
      "[20, 'HI', 1, 2, 3, 4, 5, 6]\n",
      "['HI', 1, 2, 3, 4, 5, 6]\n"
     ]
    }
   ],
   "source": [
    "queue = list([1,2,3,4,5,6])\n",
    "queue.insert(0,\"HI\")\n",
    "queue.insert(0 ,20)\n",
    "print(queue)\n",
    "#queue.pop(0)# Used to remove the element by using index\n",
    "queue.remove(20)# GIve the value to remove \n",
    "print(queue)"
   ]
  },
  {
   "cell_type": "code",
   "execution_count": 15,
   "metadata": {
    "scrolled": true
   },
   "outputs": [
    {
     "name": "stdout",
     "output_type": "stream",
     "text": [
      "deque([2, 3, 4, 5, 6, 'hello'])\n",
      "deque([3, 4, 5, 6, 'hello'])\n"
     ]
    }
   ],
   "source": [
    "from collections import deque\n",
    "queue =deque([2,3,4,5,6])\n",
    "queue.append(\"hello\")\n",
    "print(queue)\n",
    "queue.popleft()\n",
    "print(queue)"
   ]
  }
 ],
 "metadata": {
  "kernelspec": {
   "display_name": "Python 3",
   "language": "python",
   "name": "python3"
  },
  "language_info": {
   "codemirror_mode": {
    "name": "ipython",
    "version": 3
   },
   "file_extension": ".py",
   "mimetype": "text/x-python",
   "name": "python",
   "nbconvert_exporter": "python",
   "pygments_lexer": "ipython3",
   "version": "3.5.4"
  }
 },
 "nbformat": 4,
 "nbformat_minor": 2
}
