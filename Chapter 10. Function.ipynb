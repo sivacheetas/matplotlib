{
 "cells": [
  {
   "cell_type": "markdown",
   "metadata": {},
   "source": [
    "# Funcation in Python "
   ]
  },
  {
   "cell_type": "markdown",
   "metadata": {},
   "source": [
    "#### Def is keyword which is used for defing a funcation with \n",
    "def Funcation_name():\n",
    "\n",
    "        Statement 1\n",
    "        Statement 5\n",
    "        Statement 4\n",
    "        Statement 3\n",
    "        Statement 2\n",
    "        "
   ]
  },
  {
   "cell_type": "markdown",
   "metadata": {},
   "source": [
    "### What is Funcation?\n",
    "Functions are a convenient way to divide your code into useful blocks, allowing us to order our code, make it more readable, reuse it and save some time. Also functions are a key way to define interfaces so programmers can share their code.\n",
    "\n",
    "1. In Python, function is a group of related statements that perform a specific task.\n",
    "2. Functions help break our program into smaller and modular chunks. As our program grows larger and larger, functions make it more organized and manageable.\n",
    "3. Furthermore, it avoids repetition and makes code reusable."
   ]
  },
  {
   "cell_type": "code",
   "execution_count": 1,
   "metadata": {},
   "outputs": [
    {
     "name": "stdout",
     "output_type": "stream",
     "text": [
      "Hello,Numpy. Good morning!\n"
     ]
    }
   ],
   "source": [
    "def hello(name):\n",
    "    \"\"\"Keyword def marks the start of function header.\n",
    "A function name to uniquely identify it. Function naming follows the same rules of writing identifiers in Python.\n",
    "Parameters (arguments) through which we pass values to a function. They are optional.\n",
    "A colon (:) to mark the end of function header.\n",
    "Optional documentation string (docstring) to describe what the function does.\n",
    "One or more valid python statements that make up the function body. Statements must have same indentation level (usually 4 spaces).\n",
    "An optional return statement to return a value from the function.\"\"\"\n",
    "    \n",
    "    print(\"Hello,\" + name + \". Good morning!\")\n",
    "hello('Numpy')"
   ]
  },
  {
   "cell_type": "code",
   "execution_count": 2,
   "metadata": {},
   "outputs": [
    {
     "name": "stdout",
     "output_type": "stream",
     "text": [
      "Hello,Machine learning. Good morning!\n",
      "Keyword def marks the start of function header.\n",
      "A function name to uniquely identify it. Function naming follows the same rules of writing identifiers in Python.\n",
      "Parameters (arguments) through which we pass values to a function. They are optional.\n",
      "A colon (:) to mark the end of function header.\n",
      "Optional documentation string (docstring) to describe what the function does.\n",
      "One or more valid python statements that make up the function body. Statements must have same indentation level (usually 4 spaces).\n",
      "An optional return statement to return a value from the function.\n"
     ]
    }
   ],
   "source": [
    "hello('Machine learning')\n",
    "print(hello.__doc__)"
   ]
  },
  {
   "cell_type": "markdown",
   "metadata": {},
   "source": [
    "1. Keyword def marks the start of function header.\n",
    "2. A function name to uniquely identify it. Function naming follows the same rules of writing identifiers in Python.\n",
    "3. Parameters (arguments) through which we pass values to a function. They are optional.\n",
    "4. A colon (:) to mark the end of function header.\n",
    "5. Optional documentation string (docstring) to describe what the function does.\n",
    "6. One or more valid python statements that make up the function body. Statements must have same indentation level (usually 4 spaces).\n",
    "7. An optional return statement to return a value from the function."
   ]
  },
  {
   "cell_type": "code",
   "execution_count": 3,
   "metadata": {},
   "outputs": [
    {
     "data": {
      "text/plain": [
       "6"
      ]
     },
     "execution_count": 3,
     "metadata": {},
     "output_type": "execute_result"
    }
   ],
   "source": [
    "def mul(a,b):\n",
    "    return a*b\n",
    "mul(2,3)"
   ]
  },
  {
   "cell_type": "code",
   "execution_count": 8,
   "metadata": {},
   "outputs": [
    {
     "data": {
      "text/plain": [
       "60"
      ]
     },
     "execution_count": 8,
     "metadata": {},
     "output_type": "execute_result"
    }
   ],
   "source": [
    "mul(10,6)"
   ]
  },
  {
   "cell_type": "markdown",
   "metadata": {},
   "source": [
    "#### Docstring\n",
    "The first string after the function header is called the docstring and is short for documentation string. It is used to explain in brief, what a function does.\n",
    "\n",
    "Although optional, documentation is a good programming practice. Unless you can remember what you had for dinner last week, always document your code.\n",
    "\n",
    "In the above example, we have a docstring immediately below the function header. We generally use triple quotes so that docstring can extend up to multiple lines. This string is available to us as __doc__ attribute of the function."
   ]
  },
  {
   "cell_type": "code",
   "execution_count": 14,
   "metadata": {},
   "outputs": [
    {
     "name": "stdout",
     "output_type": "stream",
     "text": [
      "Keyword def marks the start of function header.\n",
      "A function name to uniquely identify it. Function naming follows the same rules of writing identifiers in Python.\n",
      "Parameters (arguments) through which we pass values to a function. They are optional.\n",
      "A colon (:) to mark the end of function header.\n",
      "Optional documentation string (docstring) to describe what the function does.\n",
      "One or more valid python statements that make up the function body. Statements must have same indentation level (usually 4 spaces).\n",
      "An optional return statement to return a value from the function.\n"
     ]
    }
   ],
   "source": [
    "print(hello.__doc__)"
   ]
  },
  {
   "cell_type": "markdown",
   "metadata": {},
   "source": [
    "### The return statement\n",
    "The return statement is used to exit a function and go back to the place from where it was called.\n",
    "\n",
    "Syntax of return\n",
    "\n",
    "return [expression_list]"
   ]
  },
  {
   "cell_type": "code",
   "execution_count": 15,
   "metadata": {},
   "outputs": [
    {
     "name": "stdout",
     "output_type": "stream",
     "text": [
      "2\n",
      "1\n"
     ]
    }
   ],
   "source": [
    "def absolute_value(num):\n",
    "    if num >= 0:\n",
    "        return num # True\n",
    "    else:\n",
    "        return -num # false\n",
    "print(absolute_value(2))\n",
    "print(absolute_value(-1))"
   ]
  },
  {
   "cell_type": "markdown",
   "metadata": {},
   "source": [
    "![How Function works in Python?](img/python-how-function-works_1.jpg)"
   ]
  },
  {
   "cell_type": "code",
   "execution_count": 19,
   "metadata": {},
   "outputs": [
    {
     "name": "stdout",
     "output_type": "stream",
     "text": [
      "value inside function: 10\n",
      "values Outside function: 200\n"
     ]
    }
   ],
   "source": [
    "def my_funct():\n",
    "    inside = 10\n",
    "    print(\"value inside function:\", inside)\n",
    "\n",
    "out = 200\n",
    "my_funct()\n",
    "print(\"values Outside function:\",out)    "
   ]
  },
  {
   "cell_type": "code",
   "execution_count": 20,
   "metadata": {},
   "outputs": [
    {
     "name": "stdout",
     "output_type": "stream",
     "text": [
      "python is awesome.\n"
     ]
    }
   ],
   "source": [
    "def printLine(text):\n",
    "    a = print(text, 'is awesome.')\n",
    "    #return a\n",
    "printLine('python')"
   ]
  },
  {
   "cell_type": "code",
   "execution_count": 21,
   "metadata": {},
   "outputs": [
    {
     "name": "stdout",
     "output_type": "stream",
     "text": [
      "The sum is 11\n"
     ]
    }
   ],
   "source": [
    "def add_numbers(x,y):\n",
    "   sum = x + y\n",
    "   return sum\n",
    "\n",
    "num1 = 5\n",
    "num2 = 6\n",
    "\n",
    "print(\"The sum is\", add_numbers(num1, num2))"
   ]
  },
  {
   "cell_type": "code",
   "execution_count": 25,
   "metadata": {},
   "outputs": [
    {
     "data": {
      "text/plain": [
       "13"
      ]
     },
     "execution_count": 25,
     "metadata": {},
     "output_type": "execute_result"
    }
   ],
   "source": [
    "def subtractNumber(x, y): \n",
    "    return x-y\n",
    "subtractNumber(20,7)\n",
    "#subtractNumber(-20,-4)\n",
    "#subtractNumber(-2,-2)"
   ]
  },
  {
   "cell_type": "code",
   "execution_count": 29,
   "metadata": {},
   "outputs": [
    {
     "name": "stdout",
     "output_type": "stream",
     "text": [
      "X is bigger then y True 20\n",
      "y is bigger then x False -10\n"
     ]
    },
    {
     "data": {
      "text/plain": [
       "True"
      ]
     },
     "execution_count": 29,
     "metadata": {},
     "output_type": "execute_result"
    }
   ],
   "source": [
    "def getBiggerNumber(x,y):\n",
    "    a = x>y\n",
    "    print(\"X is bigger then y\",x>y,x)\n",
    "    print(\"y is bigger then x\",y>x,y)\n",
    "    return a \n",
    " \n",
    "getBiggerNumber(20,-10)"
   ]
  },
  {
   "cell_type": "code",
   "execution_count": 22,
   "metadata": {},
   "outputs": [
    {
     "name": "stdout",
     "output_type": "stream",
     "text": [
      "Select operation.\n",
      "1.Add\n",
      "2.Subtract\n",
      "3.Multiply\n",
      "4.Divide\n",
      "Enter choice(1/2/3/4):1\n",
      "Enter first number: 10\n",
      "Enter second number: 20\n",
      "10 + 20 = 30\n"
     ]
    }
   ],
   "source": [
    "# Program make a simple calculator that can add, subtract, multiply and divide using functions\n",
    "\n",
    "# This function adds two numbers \n",
    "def add(x, y):\n",
    "   return x + y\n",
    "\n",
    "# This function subtracts two numbers \n",
    "def subtract(x, y):\n",
    "   return x - y\n",
    "\n",
    "# This function multiplies two numbers\n",
    "def multiply(x, y):\n",
    "   return x * y\n",
    "\n",
    "# This function divides two numbers\n",
    "def divide(x, y):\n",
    "   return x / y\n",
    "\n",
    "print(\"Select operation.\")\n",
    "print(\"1.Add\")\n",
    "print(\"2.Subtract\")\n",
    "print(\"3.Multiply\")\n",
    "print(\"4.Divide\")\n",
    "\n",
    "# Take input from the user \n",
    "choice = input(\"Enter choice(1/2/3/4):\")\n",
    "\n",
    "num1 = int(input(\"Enter first number: \"))\n",
    "num2 = int(input(\"Enter second number: \"))\n",
    "\n",
    "if choice == '1':\n",
    "   print(num1,\"+\",num2,\"=\", add(num1,num2))\n",
    "\n",
    "elif choice == '2':\n",
    "   print(num1,\"-\",num2,\"=\", subtract(num1,num2))\n",
    "\n",
    "elif choice == '3':\n",
    "   print(num1,\"*\",num2,\"=\", multiply(num1,num2))\n",
    "\n",
    "elif choice == '4':\n",
    "   print(num1,\"/\",num2,\"=\", divide(num1,num2))\n",
    "else:\n",
    "   print(\"Invalid input\")"
   ]
  },
  {
   "cell_type": "markdown",
   "metadata": {},
   "source": [
    "### Built in Funcation"
   ]
  },
  {
   "cell_type": "code",
   "execution_count": null,
   "metadata": {},
   "outputs": [],
   "source": [
    "\n",
    "Methodn     \tDescription\n",
    "Python abs()\treturns absolute value of a number\n",
    "Python all()\treturns true when all elements in iterable is true\n",
    "Python any()\tChecks if any Element of an Iterable is True\n",
    "Python ascii()\tReturns String Containing Printable Representation\n",
    "Python bin()\tconverts integer to binary string\n",
    "Python bool()\tConverts a Value to Boolean\n",
    "Python bytearray()\treturns array of given byte size\n",
    "Python bytes()\treturns immutable bytes object\n",
    "Python callable()\tChecks if the Object is Callable\n",
    "Python chr()\tReturns a Character (a string) from an Integer\n",
    "Python classmethod()\treturns class method for given function\n",
    "Python compile()\tReturns a Python code object\n",
    "Python complex()\tCreates a Complex Number\n",
    "Python delattr()\tDeletes Attribute From the Object\n",
    "Python dict()\tCreates a Dictionary\n",
    "Python dir()\tTries to Return Attributes of Object\n",
    "Python divmod()\tReturns a Tuple of Quotient and Remainder\n",
    "Python enumerate()\tReturns an Enumerate Object\n",
    "Python exec()\tExecutes Dynamically Created Program\n",
    "Python filter()\tconstructs iterator from elements which are true\n",
    "Python float()\treturns floating point number from number, string\n",
    "Python format()\treturns formatted representation of a value\n",
    "Python frozenset()\treturns immutable frozenset object\n",
    "Python getattr()\treturns value of named attribute of an object\n",
    "Python globals()\treturns dictionary of current global symbol table\n",
    "Python hasattr()\treturns whether object has named attribute\n",
    "Python hash()\treturns hash value of an object\n",
    "Python help()\tInvokes the built-in Help System\n",
    "Python hex()\tConverts to Integer to Hexadecimal\n",
    "Python id()\tReturns Identify of an Object\n",
    "Python input()\treads and returns a line of string\n",
    "Python int()\treturns integer from a number or string\n",
    "Python isinstance()\tChecks if a Object is an Instance of Class\n",
    "Python issubclass()\tChecks if a Object is Subclass of a Class\n",
    "Python iter()\treturns iterator for an object\n",
    "Python len()\tReturns Length of an Object\n",
    "Python list() Function\tcreate"
   ]
  },
  {
   "cell_type": "code",
   "execution_count": null,
   "metadata": {},
   "outputs": [],
   "source": [
    "def greetperson(*name):\n",
    "    print('hello', name)\n",
    "greetperson('Rani', 'APJ','anusha')"
   ]
  }
 ],
 "metadata": {
  "kernelspec": {
   "display_name": "Python 3",
   "language": "python",
   "name": "python3"
  },
  "language_info": {
   "codemirror_mode": {
    "name": "ipython",
    "version": 3
   },
   "file_extension": ".py",
   "mimetype": "text/x-python",
   "name": "python",
   "nbconvert_exporter": "python",
   "pygments_lexer": "ipython3",
   "version": "3.6.3"
  }
 },
 "nbformat": 4,
 "nbformat_minor": 2
}
