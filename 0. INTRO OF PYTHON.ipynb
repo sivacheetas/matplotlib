{
 "cells": [
  {
   "cell_type": "markdown",
   "metadata": {},
   "source": [
    "# What is Python?\n"
   ]
  },
  {
   "cell_type": "markdown",
   "metadata": {},
   "source": [
    "\n",
    "Python is a popular programming language. It was created in 1991 by Guido van Rossum.\n",
    "\n",
    "It is used for:\n",
    "\n",
    "1. web development (server-side),\n",
    "2. software development,\n",
    "3. mathematics,\n",
    "4. system scripting.\n",
    "![Basic](img/Basic.JPG)"
   ]
  },
  {
   "cell_type": "markdown",
   "metadata": {},
   "source": [
    "# What can Python do?"
   ]
  },
  {
   "cell_type": "markdown",
   "metadata": {},
   "source": [
    "1. Python can be used on a server to create web applications.\n",
    "2. Python can be used alongside software to create workflows.\n",
    "3. Python can connect to database systems. It can also read and modify files.\n",
    "4. Python can be used to handle big data and perform complex mathematics.\n",
    "5. Python can be used for rapid prototyping, or for production-ready software development."
   ]
  },
  {
   "cell_type": "markdown",
   "metadata": {},
   "source": [
    "# Why Python?"
   ]
  },
  {
   "cell_type": "markdown",
   "metadata": {},
   "source": [
    "* Python works on different platforms (Windows, Mac, Linux, Raspberry Pi, etc).\n",
    "* Python has a simple syntax similar to the English language.\n",
    "* Python has syntax that allows developers to write programs with fewer lines than some other programming languages.\n",
    "* Python runs on an interpreter system, meaning that code can be executed as soon as it is written. This means that prototyping can be very quick.\n",
    "* Python can be treated in a procedural way, an object-orientated way or a functional way."
   ]
  },
  {
   "cell_type": "markdown",
   "metadata": {},
   "source": [
    "# Good to know"
   ]
  },
  {
   "cell_type": "markdown",
   "metadata": {},
   "source": [
    "* The most recent major version of Python is Python 3, which we shall be using in this tutorial. However, Python 2, although not being updated with anything other than security updates, is still quite popular.\n",
    "* In this tutorial Python will be written in a text editor. It is possible to write Python in an Integrated Development Environment, such as Thonny, Pycharm, Netbeans or Eclipse which are particularly useful when managing larger collections of Python files."
   ]
  },
  {
   "cell_type": "markdown",
   "metadata": {},
   "source": [
    "# Python Syntax compared to other programming languages"
   ]
  },
  {
   "cell_type": "markdown",
   "metadata": {},
   "source": [
    "* Python was designed to for readability, and has some similarities to the English language with influence from mathematics.\n",
    "* Python uses new lines to complete a command, as opposed to other programming languages which often use semicolons or parentheses.\n",
    "* Python relies on indentation, using whitespace, to define scope; such as the scope of loops, functions and classes. Other programming languages often use curly-brackets for this purpose."
   ]
  }
 ],
 "metadata": {
  "kernelspec": {
   "display_name": "Python 3",
   "language": "python",
   "name": "python3"
  },
  "language_info": {
   "codemirror_mode": {
    "name": "ipython",
    "version": 3
   },
   "file_extension": ".py",
   "mimetype": "text/x-python",
   "name": "python",
   "nbconvert_exporter": "python",
   "pygments_lexer": "ipython3",
   "version": "3.5.4"
  }
 },
 "nbformat": 4,
 "nbformat_minor": 2
}
