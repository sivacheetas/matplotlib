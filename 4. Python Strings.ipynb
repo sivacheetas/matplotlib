{
 "cells": [
  {
   "cell_type": "markdown",
   "metadata": {},
   "source": [
    "\n",
    "\n",
    "\n",
    "\n",
    "\n",
    "# String literals in python are surrounded by either single quotation marks, or double quotation marks.\n",
    "\n",
    "'hello' is the same as \"hello\".\n",
    "\n",
    "Strings can be output to screen using the print function. For example: print(\"hello\").\n",
    "\n",
    "Like many other popular programming languages, strings in Python are arrays of bytes representing unicode characters. However, Python does not have a character data type, a single character is simply a string with a length of 1. Square brackets can be used to access elements of the string."
   ]
  },
  {
   "cell_type": "code",
   "execution_count": 2,
   "metadata": {},
   "outputs": [
    {
     "name": "stdout",
     "output_type": "stream",
     "text": [
      "!\n"
     ]
    }
   ],
   "source": [
    "# Get the character at position 1 (remember that the first character has the position 0):\n",
    "\n",
    "a = \" Hello, World!\"\n",
    "print(a[-1])"
   ]
  },
  {
   "cell_type": "code",
   "execution_count": 3,
   "metadata": {},
   "outputs": [
    {
     "name": "stdout",
     "output_type": "stream",
     "text": [
      "llo, W\n"
     ]
    }
   ],
   "source": [
    "# Substring. Get the characters from position 2 to position 5 (not included):\n",
    "\n",
    "b = \"Hello, World!\"\n",
    "print(b[2:8])"
   ]
  },
  {
   "cell_type": "code",
   "execution_count": 3,
   "metadata": {},
   "outputs": [
    {
     "name": "stdout",
     "output_type": "stream",
     "text": [
      "13\n"
     ]
    }
   ],
   "source": [
    "# The len() method returns the length of a string:\n",
    "\n",
    "a = \"Hello, World!\"\n",
    "print(len(a))"
   ]
  },
  {
   "cell_type": "code",
   "execution_count": 4,
   "metadata": {},
   "outputs": [
    {
     "name": "stdout",
     "output_type": "stream",
     "text": [
      "hello, world!\n"
     ]
    }
   ],
   "source": [
    "# The lower() method returns the string in lower case:\n",
    "\n",
    "a = \"Hello, World!\"\n",
    "print(a.lower())"
   ]
  },
  {
   "cell_type": "code",
   "execution_count": 5,
   "metadata": {},
   "outputs": [
    {
     "name": "stdout",
     "output_type": "stream",
     "text": [
      "HELLO, WORLD!\n"
     ]
    }
   ],
   "source": [
    "# The upper() method returns the string in upper case:\n",
    "\n",
    "a = \"Hello, World!\"\n",
    "print(a.upper())"
   ]
  },
  {
   "cell_type": "code",
   "execution_count": 1,
   "metadata": {},
   "outputs": [
    {
     "name": "stdout",
     "output_type": "stream",
     "text": [
      "Jello, World! Hello, World!\n",
      "Hello, Zorld!\n"
     ]
    }
   ],
   "source": [
    "# The replace() method replaces a string with another string:\n",
    "\n",
    "a = \"Hello, World!\"\n",
    "print(a.replace(\"H\", \"J\"), a)\n",
    "print(a.replace(\"W\", \"Z\"))"
   ]
  },
  {
   "cell_type": "code",
   "execution_count": 8,
   "metadata": {},
   "outputs": [
    {
     "name": "stdout",
     "output_type": "stream",
     "text": [
      "['Hello', ' World!']\n"
     ]
    }
   ],
   "source": [
    "# The split() method splits the string into substrings if it finds instances of the separator:\n",
    "\n",
    "a = \"Hello, World!\"\n",
    "print(a.split(\",\")) # returns ['Hello', ' World!']"
   ]
  },
  {
   "cell_type": "markdown",
   "metadata": {},
   "source": [
    "# Command-line String Input\n",
    "Python allows for command line input.\n",
    "\n",
    "That means we are able to ask the user for input.\n",
    "\n",
    "The following example asks for the user's name, then, by using the input() method, the program prints the name to the screen:"
   ]
  },
  {
   "cell_type": "code",
   "execution_count": 1,
   "metadata": {},
   "outputs": [
    {
     "name": "stdout",
     "output_type": "stream",
     "text": [
      "Enter your name:\n",
      "PYTHON\n",
      "Hello, PYTHON\n"
     ]
    }
   ],
   "source": [
    "print(\"Enter your name:\")\n",
    "x = input()\n",
    "print(\"Hello, \" + x)\n",
    "\n",
    "# Save this file as demo_string_input.py, and load it through the command line:\n",
    "\n",
    "\n",
    "# C:\\Users\\Your Name>python demo_string_input.py"
   ]
  },
  {
   "cell_type": "markdown",
   "metadata": {},
   "source": [
    "Method                         Description\n",
    "capitalize()                   Converts the first character to upper case\n",
    "casefold()                     Converts string into lower case\n",
    "center()                       Returns a centered string\n",
    "count()                        Returns the number of times a specified value occurs in a string\n",
    "encode()                       Returns an encoded version of the string\n",
    "endswith()                     Returns true if the string ends with the specified value\n",
    "expandtabs()                   Sets the tab size of the string\n",
    "find()                         Searches the string for a specified value and returns the position of where it was found\n",
    "format()                       Formats specified values in a string\n",
    "format_map()                   Formats specified values in a string\n",
    "index()                        Searches the string for a specified value and returns the position of where it was found\n",
    "isalnum()                      Returns True if all characters in the string are alphanumeric\n",
    "isalpha()                      Returns True if all characters in the string are in the alphabet\n",
    "isdecimal()                    Returns True if all characters in the string are decimals\n",
    "isdigit()                      Returns True if all characters in the string are digits\n",
    "isidentifier()                 Returns True if the string is an identifier\n",
    "islower()                      Returns True if all characters in the string are lower case\n",
    "isnumeric()                    Returns True if all characters in the string are numeric\n",
    "isprintable()                  Returns True if all characters in the string are printable\n",
    "isspace()                      Returns True if all characters in the string are whitespaces\n",
    "istitle()                      Returns True if the string follows the rules of a title\n",
    "isupper()                      Returns True if all characters in the string are upper case\n",
    "join()                         Joins the elements of an iterable to the end of the string\n",
    "ljust()                        Returns a left justified version of the string\n",
    "lower()                        Converts a string into lower case\n",
    "lstrip()                       Returns a left trim version of the string\n",
    "maketrans()                    Returns a translation table to be used in translations\n",
    "partition()                    Returns a tuple where the string is parted into three parts\n",
    "replace()                      Returns a string where a specified value is replaced with a specified value\n",
    "rfind()                        Searches the string for a specified value and returns the last position of where it was found\n",
    "rindex()                         "
   ]
  },
  {
   "cell_type": "code",
   "execution_count": 5,
   "metadata": {},
   "outputs": [
    {
     "name": "stdout",
     "output_type": "stream",
     "text": [
      "Hello, and welcome to my world.\n"
     ]
    }
   ],
   "source": [
    "txt = \"hello, and welcome to my world.\"\n",
    "\n",
    "x = txt.capitalize()\n",
    "\n",
    "print (x)"
   ]
  },
  {
   "cell_type": "code",
   "execution_count": 6,
   "metadata": {},
   "outputs": [
    {
     "name": "stdout",
     "output_type": "stream",
     "text": [
      "hello, and welcome to my world!\n"
     ]
    }
   ],
   "source": [
    "txt = \"Hello, And Welcome To My World!\"\n",
    "\n",
    "x = txt.casefold()\n",
    "\n",
    "print(x)"
   ]
  },
  {
   "cell_type": "code",
   "execution_count": 2,
   "metadata": {},
   "outputs": [
    {
     "name": "stdout",
     "output_type": "stream",
     "text": [
      "True\n"
     ]
    }
   ],
   "source": [
    "txt = \"Demo\"\n",
    "\n",
    "x = txt.isidentifier()\n",
    "\n",
    "print(x)"
   ]
  },
  {
   "cell_type": "markdown",
   "metadata": {},
   "source": [
    "|                 Methos |                                                                Description                    |\n",
    "|------------------------|-----------------------------------------------------------------------------------------------|\n",
    "|capitalize(...)         |Return a capitalized version of S,make the first character have upper case and the rest lower case.| \n",
    "|  casefold(...)|      S.casefold() -> str  Return a version of S suitable for caseless comparisons.|  \n",
    "|  center(...) |      S.center(width[, fillchar]) -> str      Return S centered in a string of length width. Padding is done using the specified fill character (default is a space)|  \n",
    " |  count(...)\n",
    " |      S.count(sub[, start[, end]]) -> int\n",
    " |      \n",
    " |      Return the number of non-overlapping occurrences of substring sub in\n",
    " |      string S[start:end].  Optional arguments start and end are\n",
    " |      interpreted as in slice notation.\n",
    " |  \n",
    " |  encode(...)\n",
    " |      S.encode(encoding='utf-8', errors='strict') -> bytes\n",
    " |      \n",
    " |      Encode S using the codec registered for encoding. Default encoding\n",
    " |      is 'utf-8'. errors may be given to set a different error\n",
    " |      handling scheme. Default is 'strict' meaning that encoding errors raise\n",
    " |      a UnicodeEncodeError. Other possible values are 'ignore', 'replace' and\n",
    " |      'xmlcharrefreplace' as well as any other name registered with\n",
    " |      codecs.register_error that can handle UnicodeEncodeErrors.\n",
    " |  \n",
    " |  endswith(...)\n",
    " |      S.endswith(suffix[, start[, end]]) -> bool\n",
    " |      \n",
    " |      Return True if S ends with the specified suffix, False otherwise.\n",
    " |      With optional start, test S beginning at that position.\n",
    " |      With optional end, stop comparing S at that position.\n",
    " |      suffix can also be a tuple of strings to try.\n",
    " |  \n",
    " |  expandtabs(...)\n",
    " |      S.expandtabs(tabsize=8) -> str\n",
    " |      \n",
    " |      Return a copy of S where all tab characters are expanded using spaces.\n",
    " |      If tabsize is not given, a tab size of 8 characters is assumed.\n",
    " |  \n",
    " |  find(...)\n",
    " |      S.find(sub[, start[, end]]) -> int\n",
    " |      \n",
    " |      Return the lowest index in S where substring sub is found,\n",
    " |      such that sub is contained within S[start:end].  Optional\n",
    " |      arguments start and end are interpreted as in slice notation.\n",
    " |      \n",
    " |      Return -1 on failure.\n",
    " |  \n",
    " |  format(...)\n",
    " |      S.format(*args, **kwargs) -> str\n",
    " |      \n",
    " |      Return a formatted version of S, using substitutions from args and kwargs.\n",
    " |      The substitutions are identified by braces ('{' and '}').\n",
    " |  \n",
    " |  format_map(...)\n",
    " |      S.format_map(mapping) -> str\n",
    " |      \n",
    " |      Return a formatted version of S, using substitutions from mapping.\n",
    " |      The substitutions are identified by braces ('{' and '}').\n",
    " |  \n",
    " |  index(...)\n",
    " |      S.index(sub[, start[, end]]) -> int\n",
    " |      \n",
    " |      Like S.find() but raise ValueError when the substring is not found.\n",
    " |  \n",
    " |  isalnum(...)\n",
    " |      S.isalnum() -> bool\n",
    " |      \n",
    " |      Return True if all characters in S are alphanumeric\n",
    " |      and there is at least one character in S, False otherwise.\n",
    " |  \n",
    " |  isalpha(...)\n",
    " |      S.isalpha() -> bool\n",
    " |      \n",
    " |      Return True if all characters in S are alphabetic\n",
    " |      and there is at least one character in S, False otherwise.\n",
    " |  \n",
    " |  isdecimal(...)\n",
    " |      S.isdecimal() -> bool\n",
    " |      \n",
    " |      Return True if there are only decimal characters in S,\n",
    " |      False otherwise.\n",
    " |  \n",
    " |  isdigit(...)\n",
    " |      S.isdigit() -> bool\n",
    " |      \n",
    " |      Return True if all characters in S are digits\n",
    " |      and there is at least one character in S, False otherwise.\n",
    " |  \n",
    " |  isidentifier(...)\n",
    " |      S.isidentifier() -> bool\n",
    " |      \n",
    " |      Return True if S is a valid identifier according\n",
    " |      to the language definition.\n",
    " |      \n",
    " |      Use keyword.iskeyword() to test for reserved identifiers\n",
    " |      such as \"def\" and \"class\".\n",
    " |  \n",
    " |  islower(...)\n",
    " |      S.islower() -> bool\n",
    " |      \n",
    " |      Return True if all cased characters in S are lowercase and there is\n",
    " |      at least one cased character in S, False otherwise.\n",
    " |  \n",
    " |  isnumeric(...)\n",
    " |      S.isnumeric() -> bool\n",
    " |      \n",
    " |      Return True if there are only numeric characters in S,\n",
    " |      False otherwise.\n",
    " |  \n",
    " |  isprintable(...)\n",
    " |      S.isprintable() -> bool\n",
    " |      \n",
    " |      Return True if all characters in S are considered\n",
    " |      printable in repr() or S is empty, False otherwise.\n",
    " |  \n",
    " |  isspace(...)\n",
    " |      S.isspace() -> bool\n",
    " |      \n",
    " |      Return True if all characters in S are whitespace\n",
    " |      and there is at least one character in S, False otherwise.\n",
    " |  \n",
    " |  istitle(...)\n",
    " |      S.istitle() -> bool\n",
    " |      \n",
    " |      Return True if S is a titlecased string and there is at least one\n",
    " |      character in S, i.e. upper- and titlecase characters may only\n",
    " |      follow uncased characters and lowercase characters only cased ones.\n",
    " |      Return False otherwise.\n",
    " |  \n",
    " |  isupper(...)\n",
    " |      S.isupper() -> bool\n",
    " |      \n",
    " |      Return True if all cased characters in S are uppercase and there is\n",
    " |      at least one cased character in S, False otherwise.\n",
    " |  \n",
    " |  join(...)\n",
    " |      S.join(iterable) -> str\n",
    " |      \n",
    " |      Return a string which is the concatenation of the strings in the\n",
    " |      iterable.  The separator between elements is S.\n",
    " |  \n",
    " |  ljust(...)\n",
    " |      S.ljust(width[, fillchar]) -> str\n",
    " |      \n",
    " |      Return S left-justified in a Unicode string of length width. Padding is\n",
    " |      done using the specified fill character (default is a space).\n",
    " |  \n",
    " |  lower(...)\n",
    " |      S.lower() -> str\n",
    " |      \n",
    " |      Return a copy of the string S converted to lowercase.\n",
    " |  \n",
    " |  lstrip(...)\n",
    " |      S.lstrip([chars]) -> str\n",
    " |      \n",
    " |      Return a copy of the string S with leading whitespace removed.\n",
    " |      If chars is given and not None, remove characters in chars instead.\n",
    " |  \n",
    " |  partition(...)\n",
    " |      S.partition(sep) -> (head, sep, tail)\n",
    " |      \n",
    " |      Search for the separator sep in S, and return the part before it,\n",
    " |      the separator itself, and the part after it.  If the separator is not\n",
    " |      found, return S and two empty strings.\n",
    " |  \n",
    " |  replace(...)\n",
    " |      S.replace(old, new[, count]) -> str\n",
    " |      \n",
    " |      Return a copy of S with all occurrences of substring\n",
    " |      old replaced by new.  If the optional argument count is\n",
    " |      given, only the first count occurrences are replaced.\n",
    " |  \n",
    " |  rfind(...)\n",
    " |      S.rfind(sub[, start[, end]]) -> int\n",
    " |      \n",
    " |      Return the highest index in S where substring sub is found,\n",
    " |      such that sub is contained within S[start:end].  Optional\n",
    " |      arguments start and end are interpreted as in slice notation.\n",
    " |      \n",
    " |      Return -1 on failure.\n",
    " |  \n",
    " |  rindex(...)\n",
    " |      S.rindex(sub[, start[, end]]) -> int\n",
    " |      \n",
    " |      Like S.rfind() but raise ValueError when the substring is not found.\n",
    " |  \n",
    " |  rjust(...)\n",
    " |      S.rjust(width[, fillchar]) -> str\n",
    " |      \n",
    " |      Return S right-justified in a string of length width. Padding is\n",
    " |      done using the specified fill character (default is a space).\n",
    " |  \n",
    " |  rpartition(...)\n",
    " |      S.rpartition(sep) -> (head, sep, tail)\n",
    " |      \n",
    " |      Search for the separator sep in S, starting at the end of S, and return\n",
    " |      the part before it, the separator itself, and the part after it.  If the\n",
    " |      separator is not found, return two empty strings and S.\n",
    " |  \n",
    " |  rsplit(...)\n",
    " |      S.rsplit(sep=None, maxsplit=-1) -> list of strings\n",
    " |      \n",
    " |      Return a list of the words in S, using sep as the\n",
    " |      delimiter string, starting at the end of the string and\n",
    " |      working to the front.  If maxsplit is given, at most maxsplit\n",
    " |      splits are done. If sep is not specified, any whitespace string\n",
    " |      is a separator.\n",
    " |  \n",
    " |  rstrip(...)\n",
    " |      S.rstrip([chars]) -> str\n",
    " |      \n",
    " |      Return a copy of the string S with trailing whitespace removed.\n",
    " |      If chars is given and not None, remove characters in chars instead.\n",
    " |  \n",
    " |  split(...)\n",
    " |      S.split(sep=None, maxsplit=-1) -> list of strings\n",
    " |      \n",
    " |      Return a list of the words in S, using sep as the\n",
    " |      delimiter string.  If maxsplit is given, at most maxsplit\n",
    " |      splits are done. If sep is not specified or is None, any\n",
    " |      whitespace string is a separator and empty strings are\n",
    " |      removed from the result.\n",
    " |  \n",
    " |  splitlines(...)\n",
    " |      S.splitlines([keepends]) -> list of strings\n",
    " |      \n",
    " |      Return a list of the lines in S, breaking at line boundaries.\n",
    " |      Line breaks are not included in the resulting list unless keepends\n",
    " |      is given and true.\n",
    " |  \n",
    " |  startswith(...)\n",
    " |      S.startswith(prefix[, start[, end]]) -> bool\n",
    " |      \n",
    " |      Return True if S starts with the specified prefix, False otherwise.\n",
    " |      With optional start, test S beginning at that position.\n",
    " |      With optional end, stop comparing S at that position.\n",
    " |      prefix can also be a tuple of strings to try.\n",
    " |  \n",
    " |  strip(...)\n",
    " |      S.strip([chars]) -> str\n",
    " |      \n",
    " |      Return a copy of the string S with leading and trailing\n",
    " |      whitespace removed.\n",
    " |      If chars is given and not None, remove characters in chars instead.\n",
    " |  \n",
    " |  swapcase(...)\n",
    " |      S.swapcase() -> str\n",
    " |      \n",
    " |      Return a copy of S with uppercase characters converted to lowercase\n",
    " |      and vice versa.\n",
    " |  \n",
    " |  title(...)\n",
    " |      S.title() -> str\n",
    " |      \n",
    " |      Return a titlecased version of S, i.e. words start with title case\n",
    " |      characters, all remaining cased characters have lower case.\n",
    " |  \n",
    " |  translate(...)\n",
    " |      S.translate(table) -> str\n",
    " |      \n",
    " |      Return a copy of the string S in which each character has been mapped\n",
    " |      through the given translation table. The table must implement\n",
    " |      lookup/indexing via __getitem__, for instance a dictionary or list,\n",
    " |      mapping Unicode ordinals to Unicode ordinals, strings, or None. If\n",
    " |      this operation raises LookupError, the character is left untouched.\n",
    " |      Characters mapped to None are deleted.\n",
    " |  \n",
    " |  upper(...)\n",
    " |      S.upper() -> str\n",
    " |      \n",
    " |      Return a copy of S converted to uppercase.\n",
    " |  \n",
    " |  zfill(...)\n",
    " |      S.zfill(width) -> str\n",
    " |      \n",
    " |      Pad a numeric string S with zeros on the left, to fill a field\n",
    " |      of the specified width. The string S is never truncated."
   ]
  },
  {
   "cell_type": "markdown",
   "metadata": {},
   "source": [
    "|                   Method                |                                    Description                         |\n",
    "|-----------------------------------------|------------------------------------------------------------------------|\n",
    "|capitalize()                             |Converts the first character to upper case                              |\n",
    "|casefold()                               |Converts string into lower case                                         |\n",
    "|center()                                 |Converts the first character to upper case                              |\n",
    "|count()                                  |Returns a centered string                                               |\n",
    "|encode()                                 |Returns the number of times a specified value occurs in a string        |"
   ]
  }
 ],
 "metadata": {
  "kernelspec": {
   "display_name": "Python 3",
   "language": "python",
   "name": "python3"
  },
  "language_info": {
   "codemirror_mode": {
    "name": "ipython",
    "version": 3
   },
   "file_extension": ".py",
   "mimetype": "text/x-python",
   "name": "python",
   "nbconvert_exporter": "python",
   "pygments_lexer": "ipython3",
   "version": "3.5.4"
  }
 },
 "nbformat": 4,
 "nbformat_minor": 2
}
