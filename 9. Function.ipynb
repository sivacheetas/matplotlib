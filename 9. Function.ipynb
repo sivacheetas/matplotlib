{
 "cells": [
  {
   "cell_type": "code",
   "execution_count": 17,
   "metadata": {},
   "outputs": [
    {
     "name": "stdout",
     "output_type": "stream",
     "text": [
      "2\n"
     ]
    }
   ],
   "source": [
    "def greet():\n",
    "    a =2\n",
    "    print(a)\n",
    "greet()"
   ]
  },
  {
   "cell_type": "code",
   "execution_count": 27,
   "metadata": {},
   "outputs": [
    {
     "name": "stdout",
     "output_type": "stream",
     "text": [
      "hello,Nani.Good Morning\n"
     ]
    }
   ],
   "source": [
    "def greet(name):\n",
    "    print(\"hello,\" + name + \".Good Morning\")\n",
    "greet('Nani')"
   ]
  },
  {
   "cell_type": "code",
   "execution_count": 29,
   "metadata": {},
   "outputs": [
    {
     "name": "stdout",
     "output_type": "stream",
     "text": [
      "hello,May.Good Morning\n",
      "None\n"
     ]
    }
   ],
   "source": [
    "print(greet(\"May\"))"
   ]
  },
  {
   "cell_type": "code",
   "execution_count": 34,
   "metadata": {},
   "outputs": [
    {
     "name": "stdout",
     "output_type": "stream",
     "text": [
      "2\n",
      "25\n"
     ]
    }
   ],
   "source": [
    "def absolute_value(num):\n",
    "    if num >= 0:\n",
    "        return num\n",
    "    else:\n",
    "        return -num\n",
    "print(absolute_value(2))\n",
    "print(absolute_value(-25))"
   ]
  },
  {
   "cell_type": "code",
   "execution_count": 36,
   "metadata": {},
   "outputs": [
    {
     "name": "stdout",
     "output_type": "stream",
     "text": [
      "value inside function: 10\n",
      "values Outside function: 20\n"
     ]
    }
   ],
   "source": [
    "def my_funct():\n",
    "    x = 10\n",
    "    print(\"value inside function:\", x)\n",
    "\n",
    "x = 20\n",
    "my_funct()\n",
    "print(\"values Outside function:\",x)    "
   ]
  },
  {
   "cell_type": "code",
   "execution_count": 38,
   "metadata": {},
   "outputs": [
    {
     "name": "stdout",
     "output_type": "stream",
     "text": [
      "True\n"
     ]
    }
   ],
   "source": [
    "a=[1,2,3,4]\n",
    "all(a)\n",
    "print(all(a))"
   ]
  },
  {
   "cell_type": "code",
   "execution_count": 40,
   "metadata": {},
   "outputs": [
    {
     "ename": "SyntaxError",
     "evalue": "invalid syntax (<ipython-input-40-815220f5a4af>, line 2)",
     "output_type": "error",
     "traceback": [
      "\u001b[1;36m  File \u001b[1;32m\"<ipython-input-40-815220f5a4af>\"\u001b[1;36m, line \u001b[1;32m2\u001b[0m\n\u001b[1;33m    Methodn     \tDescription\u001b[0m\n\u001b[1;37m                \t          ^\u001b[0m\n\u001b[1;31mSyntaxError\u001b[0m\u001b[1;31m:\u001b[0m invalid syntax\n"
     ]
    }
   ],
   "source": [
    "\n",
    "Methodn     \tDescription\n",
    "Python abs()\treturns absolute value of a number\n",
    "Python all()\treturns true when all elements in iterable is true\n",
    "Python any()\tChecks if any Element of an Iterable is True\n",
    "Python ascii()\tReturns String Containing Printable Representation\n",
    "Python bin()\tconverts integer to binary string\n",
    "Python bool()\tConverts a Value to Boolean\n",
    "Python bytearray()\treturns array of given byte size\n",
    "Python bytes()\treturns immutable bytes object\n",
    "Python callable()\tChecks if the Object is Callable\n",
    "Python chr()\tReturns a Character (a string) from an Integer\n",
    "Python classmethod()\treturns class method for given function\n",
    "Python compile()\tReturns a Python code object\n",
    "Python complex()\tCreates a Complex Number\n",
    "Python delattr()\tDeletes Attribute From the Object\n",
    "Python dict()\tCreates a Dictionary\n",
    "Python dir()\tTries to Return Attributes of Object\n",
    "Python divmod()\tReturns a Tuple of Quotient and Remainder\n",
    "Python enumerate()\tReturns an Enumerate Object\n",
    "Python eval()\tRuns Python Code Within Program\n",
    "Python exec()\tExecutes Dynamically Created Program\n",
    "Python filter()\tconstructs iterator from elements which are true\n",
    "Python float()\treturns floating point number from number, string\n",
    "Python format()\treturns formatted representation of a value\n",
    "Python frozenset()\treturns immutable frozenset object\n",
    "Python getattr()\treturns value of named attribute of an object\n",
    "Python globals()\treturns dictionary of current global symbol table\n",
    "Python hasattr()\treturns whether object has named attribute\n",
    "Python hash()\treturns hash value of an object\n",
    "Python help()\tInvokes the built-in Help System\n",
    "Python hex()\tConverts to Integer to Hexadecimal\n",
    "Python id()\tReturns Identify of an Object\n",
    "Python input()\treads and returns a line of string\n",
    "Python int()\treturns integer from a number or string\n",
    "Python isinstance()\tChecks if a Object is an Instance of Class\n",
    "Python issubclass()\tChecks if a Object is Subclass of a Class\n",
    "Python iter()\treturns iterator for an object\n",
    "Python len()\tReturns Length of an Object\n",
    "Python list() Function\tcreate"
   ]
  },
  {
   "cell_type": "code",
   "execution_count": 46,
   "metadata": {},
   "outputs": [
    {
     "name": "stdout",
     "output_type": "stream",
     "text": [
      "python is awesome.\n"
     ]
    }
   ],
   "source": [
    "def printLine(text):\n",
    "    a = print(text, 'is awesome.')\n",
    "    #return a\n",
    "printLine('python')"
   ]
  },
  {
   "cell_type": "code",
   "execution_count": 49,
   "metadata": {},
   "outputs": [
    {
     "name": "stdout",
     "output_type": "stream",
     "text": [
      "hello ('Rani', 'APJ', 'anusha')\n"
     ]
    }
   ],
   "source": [
    "def greetperson(*name):\n",
    "    print('hello', name)\n",
    "greetperson('Rani', 'APJ','anusha')"
   ]
  }
 ],
 "metadata": {
  "kernelspec": {
   "display_name": "Python 3",
   "language": "python",
   "name": "python3"
  },
  "language_info": {
   "codemirror_mode": {
    "name": "ipython",
    "version": 3
   },
   "file_extension": ".py",
   "mimetype": "text/x-python",
   "name": "python",
   "nbconvert_exporter": "python",
   "pygments_lexer": "ipython3",
   "version": "3.6.0"
  }
 },
 "nbformat": 4,
 "nbformat_minor": 2
}
