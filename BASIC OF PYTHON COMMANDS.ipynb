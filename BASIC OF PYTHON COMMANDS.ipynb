{
 "cells": [
  {
   "cell_type": "markdown",
   "metadata": {},
   "source": [
    "## Comments in Python"
   ]
  },
  {
   "cell_type": "code",
   "execution_count": 46,
   "metadata": {},
   "outputs": [
    {
     "name": "stdout",
     "output_type": "stream",
     "text": [
      "2\n"
     ]
    }
   ],
   "source": [
    "# Hash is comment in python \n",
    "# variable a is holding 2 as value in python \n",
    "a = 2\n",
    "# print is one of the built in function in python.\n",
    "print(a)\n",
    "# variable b is holding 2 as value in python\n",
    "b = 2\n",
    "# Note: in python memory management a and be will be store in same location  python"
   ]
  },
  {
   "cell_type": "markdown",
   "metadata": {},
   "source": [
    "# Signal line contenet\n"
   ]
  },
  {
   "cell_type": "code",
   "execution_count": null,
   "metadata": {},
   "outputs": [],
   "source": []
  },
  {
   "cell_type": "markdown",
   "metadata": {},
   "source": [
    "# Different types variables we can use\n",
    "Variables can start with (A-Z, a-z, 0-9, _ name. )"
   ]
  },
  {
   "cell_type": "code",
   "execution_count": 18,
   "metadata": {},
   "outputs": [
    {
     "name": "stdout",
     "output_type": "stream",
     "text": [
      "354312184 10 10.5 hello (2+2j) 9 123\n"
     ]
    }
   ],
   "source": [
    "a = 10\n",
    "b = 10.5\n",
    "c = \"hello\"\n",
    "d = 2j+2\n",
    "A = 354312184\n",
    "_9 = 3\n",
    "_x = 123\n",
    "print(A, a, b, c, d, 9, _x)"
   ]
  },
  {
   "cell_type": "code",
   "execution_count": 1,
   "metadata": {},
   "outputs": [
    {
     "name": "stdout",
     "output_type": "stream",
     "text": [
      "<class 'int'>\n",
      "<class 'float'>\n",
      "<class 'str'>\n",
      "<class 'complex'>\n",
      "50.9\n",
      "helloworld\n",
      "(22+15j)\n"
     ]
    }
   ],
   "source": [
    "a = 20 \n",
    "print(type(a))\n",
    "b = 30.9 \n",
    "print(type(b))\n",
    "c = \"hello\"\n",
    "x = \"world\"\n",
    "print(type(c))\n",
    "\n",
    "# commplex\n",
    "d = 3j+2j+10j+2\n",
    "print(type(d))\n",
    "\n",
    "\n",
    "print(a+b)\n",
    "# 50.9\n",
    "#print(a+c)\n",
    "# 20 hello or error\n",
    "print(c+x)\n",
    "\n",
    "print(a+d)\n",
    "# output"
   ]
  },
  {
   "cell_type": "markdown",
   "metadata": {},
   "source": [
    "# Python Casting"
   ]
  },
  {
   "cell_type": "code",
   "execution_count": null,
   "metadata": {},
   "outputs": [],
   "source": []
  }
 ],
 "metadata": {
  "kernelspec": {
   "display_name": "Python 3",
   "language": "python",
   "name": "python3"
  },
  "language_info": {
   "codemirror_mode": {
    "name": "ipython",
    "version": 3
   },
   "file_extension": ".py",
   "mimetype": "text/x-python",
   "name": "python",
   "nbconvert_exporter": "python",
   "pygments_lexer": "ipython3",
   "version": "3.7.1"
  }
 },
 "nbformat": 4,
 "nbformat_minor": 2
}
