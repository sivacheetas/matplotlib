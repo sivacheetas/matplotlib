{
 "cells": [
  {
   "cell_type": "markdown",
   "metadata": {},
   "source": [
    "# Python Matrix "
   ]
  },
  {
   "cell_type": "markdown",
   "metadata": {},
   "source": [
    "1. What is a matrix?\n",
    "2. Python Matrix"
   ]
  },
  {
   "cell_type": "markdown",
   "metadata": {},
   "source": [
    "A matrix is a two-dimensional data structure where numbers are arranged into rows and columns. For example:\n",
    "\n",
    "Matrix with 4 columns and 3 rows\n",
    "![Matrix](img/matrix.jpg)\n",
    "\n",
    "\n",
    "This matrix is a 3x4 (pronounced \"three by four\") matrix because it has 3 rows and 4 columns."
   ]
  },
  {
   "cell_type": "markdown",
   "metadata": {},
   "source": [
    "Python Matrix\n",
    "Python doesn't have a built-in type for matrices. However, we can treat list of a list as a matrix. For example:"
   ]
  },
  {
   "cell_type": "code",
   "execution_count": 11,
   "metadata": {},
   "outputs": [
    {
     "name": "stdout",
     "output_type": "stream",
     "text": [
      "[[1, 4, 5], [-5, 8, 9]] [[4, 5, 6], [-5, -8, -9]]\n",
      "[[1, 4, 5], [-5, 8, 9], [4, 5, 6], [-5, -8, -9]]\n",
      "2\n"
     ]
    }
   ],
   "source": [
    "A = [[1, 4, 5],[-5, 8, 9]]\n",
    "A1= [[4, 5, 6], [-5, -8, -9]]\n",
    "print(A,A1)\n",
    "type(A)\n",
    "print(A+A1)\n",
    "print(len(A1))"
   ]
  }
 ],
 "metadata": {
  "kernelspec": {
   "display_name": "Python 3",
   "language": "python",
   "name": "python3"
  },
  "language_info": {
   "codemirror_mode": {
    "name": "ipython",
    "version": 3
   },
   "file_extension": ".py",
   "mimetype": "text/x-python",
   "name": "python",
   "nbconvert_exporter": "python",
   "pygments_lexer": "ipython3",
   "version": "3.6.3"
  }
 },
 "nbformat": 4,
 "nbformat_minor": 2
}
