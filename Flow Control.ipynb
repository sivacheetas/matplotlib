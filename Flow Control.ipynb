{
 "cells": [
  {
   "cell_type": "markdown",
   "metadata": {},
   "source": [
    "### What are if...else statement in Python?\n",
    "Decision making is required when we want to execute a code only if a certain condition is satisfied.\n",
    "1. if…\n",
    "2. elif…\n",
    "3. else \n",
    "\n",
    "\n",
    "statement is used in Python for decision making."
   ]
  },
  {
   "cell_type": "code",
   "execution_count": 5,
   "metadata": {},
   "outputs": [
    {
     "name": "stdout",
     "output_type": "stream",
     "text": [
      "-10\n",
      "Nagitive number: -10\n"
     ]
    }
   ],
   "source": [
    "a= int(input())\n",
    "while a>0:\n",
    "    print(\"Positive number\",a)\n",
    "    break\n",
    "else:\n",
    "    print(\"Nagitive number:\",a)"
   ]
  },
  {
   "cell_type": "markdown",
   "metadata": {},
   "source": [
    "### Python if Statement Syntax\n",
    "if test expression:\n",
    "\n",
    "    statement1(s)\n",
    "    statement2(s)\n",
    "    statemen3(s)\n",
    "    statement4(s)\n",
    "    statement5(s)\n",
    "    statement6(s)\n",
    "    "
   ]
  },
  {
   "cell_type": "markdown",
   "metadata": {},
   "source": [
    "Here, the program evaluates the test expression and will execute statement(s) only if the text expression is True.\n",
    "\n",
    "If the text expression is False, the statement(s) is not executed.\n",
    "\n",
    "In Python, the body of the if statement is indicated by the indentation. Body starts with an indentation and the first unindented line marks the end.\n",
    "\n",
    "Python interprets non-zero values as True. None and 0 are interpreted as False."
   ]
  },
  {
   "cell_type": "code",
   "execution_count": 1,
   "metadata": {},
   "outputs": [
    {
     "name": "stdout",
     "output_type": "stream",
     "text": [
      "3 is a positive number.\n"
     ]
    }
   ],
   "source": [
    "# If the number is positive, we print an appropriate message\n",
    "\n",
    "num = 3\n",
    "if num > 0:\n",
    "    print(num, \"is a positive number.\")"
   ]
  },
  {
   "cell_type": "code",
   "execution_count": 2,
   "metadata": {},
   "outputs": [],
   "source": [
    "num = -1\n",
    "if num > 0:\n",
    "    print(num, \"is a positive number.\")"
   ]
  },
  {
   "cell_type": "markdown",
   "metadata": {},
   "source": [
    "In the above example, num > 0 is the test expression.\n",
    "\n",
    "The body of if is executed only if this evaluates to True.\n",
    "\n",
    "When variable num is equal to 3, test expression is true and body inside body of if is executed.\n",
    "\n",
    "If variable num is equal to -1, test expression is false and body inside body of if is skipped.\n",
    "\n",
    "The print() statement falls outside of the if block (unindented). Hence, it is executed regardless of the test expression.\n"
   ]
  },
  {
   "cell_type": "markdown",
   "metadata": {},
   "source": [
    "## Python if...else Statement\n",
    "### Syntax of if...else\n",
    "\n",
    "if test expression:\n",
    "        \n",
    "        Body of if\n",
    "\n",
    "else:\n",
    "\n",
    "        Body of else"
   ]
  },
  {
   "cell_type": "markdown",
   "metadata": {},
   "source": [
    "The if..else statement evaluates test expression and will execute body of if only when test condition is True.\n",
    "\n",
    "If the condition is False, body of else is executed. Indentation is used to separate the blocks."
   ]
  },
  {
   "cell_type": "code",
   "execution_count": 4,
   "metadata": {},
   "outputs": [
    {
     "name": "stdout",
     "output_type": "stream",
     "text": [
      "Negative number is  -10\n"
     ]
    }
   ],
   "source": [
    "# Program checks if the number is positive or negative\n",
    "# And displays an appropriate message\n",
    "\n",
    "#num = 10\n",
    "\n",
    "# Try these two variations as well. \n",
    "#num = -15\n",
    "\n",
    "num = -10\n",
    "\n",
    "if num >= 0:\n",
    "    print(\"Positive or Zero\")\n",
    "else:\n",
    "    print(\"Negative number is \",num)"
   ]
  },
  {
   "cell_type": "markdown",
   "metadata": {},
   "source": [
    "In the above example, when num is equal to 3, the test expression is true and body of if is executed and body of else is skipped.\n",
    "\n",
    "If num is equal to -5, the test expression is false and body of else is executed and body of if is skipped.\n",
    "\n",
    "If num is equal to 0, the test expression is true and body of if is executed and body of else is skipped"
   ]
  },
  {
   "cell_type": "markdown",
   "metadata": {},
   "source": [
    "# Python if...elif...else Statement\n",
    "# Syntax of if...elif...else\n",
    "\n",
    "\n",
    "if test expression:\n",
    "   \n",
    "     Body of if\n",
    "\n",
    "elif test expression:\n",
    "\n",
    "    Body of elif\n",
    "\n",
    "else: \n",
    "    \n",
    "    Body of else"
   ]
  },
  {
   "cell_type": "markdown",
   "metadata": {},
   "source": [
    "The elif is short for else if. It allows us to check for multiple expressions.\n",
    "\n",
    "If the condition for if is False, it checks the condition of the next elif block and so on.\n",
    "\n",
    "If all the conditions are False, body of else is executed.\n",
    "\n",
    "Only one block among the several if...elif...else blocks is executed according to the condition.\n",
    "\n",
    "The if block can have only one else block. But it can have multiple elif blocks."
   ]
  },
  {
   "cell_type": "code",
   "execution_count": 8,
   "metadata": {},
   "outputs": [
    {
     "name": "stdout",
     "output_type": "stream",
     "text": [
      "10\n",
      "Positive number 10\n"
     ]
    }
   ],
   "source": [
    "# In this program,  we check if the number is positive or\n",
    "# negative or zero and \n",
    "# display an appropriate message\n",
    "\n",
    "\n",
    "\n",
    "# Try these two variations as well:\n",
    "# num = 0\n",
    "# num = -4.5\n",
    "num = int(input())\n",
    "if num > 0:\n",
    "    print(\"Positive number\", num)\n",
    "elif num == 0:\n",
    "    print(\"Zero\",num)\n",
    "else:\n",
    "    print(\"Negative number\",num)"
   ]
  },
  {
   "cell_type": "code",
   "execution_count": 19,
   "metadata": {},
   "outputs": [
    {
     "name": "stdout",
     "output_type": "stream",
     "text": [
      "2\n",
      "+VE 2\n"
     ]
    }
   ],
   "source": [
    "n1 = input()\n",
    "n = int(n1)\n",
    "if n>0:\n",
    "    print(\"+VE\", n)\n",
    "elif n==0:\n",
    "    print(\"zero\",n)\n",
    "elif n<0:\n",
    "    print(\"-ve\",n)\n",
    "else:\n",
    "    print(\"no number is found\",n)"
   ]
  },
  {
   "cell_type": "markdown",
   "metadata": {},
   "source": [
    "When variable num is positive, Positive number is printed.\n",
    "\n",
    "If num is equal to 0, Zero is printed.\n",
    "\n",
    "If num is negative, Negative number is printed"
   ]
  },
  {
   "cell_type": "markdown",
   "metadata": {},
   "source": [
    "# Python Nested if statements\n",
    "We can have a if...elif...else statement inside another if...elif...else statement. This is called nesting in computer programming.\n",
    "\n",
    "Any number of these statements can be nested inside one another. Indentation is the only way to figure out the level of nesting. This can get confusing, so must be avoided if we can."
   ]
  },
  {
   "cell_type": "code",
   "execution_count": null,
   "metadata": {},
   "outputs": [],
   "source": [
    "num = float(input(\"Enter a number: \"))\n",
    "if num >= 0:   # num =1\n",
    "    if num == 0: # 1==0, False \n",
    "        print(\"Zero\") \n",
    "    else:\n",
    "        print(\"Positive number\")\n",
    "else:\n",
    "    print(\"Negative number\")\n"
   ]
  },
  {
   "cell_type": "markdown",
   "metadata": {},
   "source": [
    "# Python for Loop "
   ]
  },
  {
   "cell_type": "markdown",
   "metadata": {},
   "source": [
    "1.  What is for loop in Python?\n",
    "    1. Syntax of for Loop\n",
    "    2. Flowchart of for loop\n",
    "    3. Example: Python for Loop\n",
    "2. The range() function\n",
    "3. for loop with else"
   ]
  },
  {
   "cell_type": "markdown",
   "metadata": {},
   "source": [
    "### What is for loop in Python?\n",
    "The for loop in Python is used to iterate over a sequence (list, tuple, string) or other iterable objects. Iterating over a sequence is called traversal."
   ]
  },
  {
   "cell_type": "markdown",
   "metadata": {},
   "source": [
    "#### Syntax of for Loop\n",
    "for val in sequence:\n",
    "\t\n",
    "    Body of for\n",
    "\n",
    "Here, val is the variable that takes the value of the item inside the sequence on each iteration.\n",
    "\n",
    "Loop continues until we reach the last item in the sequence. The body of for loop is separated from the rest of the code using indentation."
   ]
  },
  {
   "cell_type": "code",
   "execution_count": 20,
   "metadata": {},
   "outputs": [
    {
     "name": "stdout",
     "output_type": "stream",
     "text": [
      "The sum is 48\n"
     ]
    }
   ],
   "source": [
    "# Program to find the sum of all numbers stored in a list\n",
    "\n",
    "# List of numbers\n",
    "numbers = [6, 5, 3, 8, 4, 2, 5, 4, 11]\n",
    "\n",
    "\n",
    "# variable to store the sum\n",
    "sum = 0\n",
    "\n",
    "# iterate over the list\n",
    "for val in numbers:\n",
    "    sum = sum+val  # 0 +[6, 5, 3, 8, 4, 2, 5, 4, 11]\n",
    "\n",
    "# Output: The sum is 48\n",
    "print(\"The sum is\", sum)"
   ]
  },
  {
   "cell_type": "markdown",
   "metadata": {},
   "source": [
    "### The range() function\n",
    "We can generate a sequence of numbers using range() function. range(10) will generate numbers from 0 to 9 (10 numbers).\n",
    "\n",
    "We can also define the start, stop and step size as range(start,stop,step size). step size defaults to 1 if not provided.\n",
    "\n",
    "This function does not store all the values in memory, it would be inefficient. So it remembers the start, stop, step size and generates the next number on the go.\n",
    "\n",
    "To force this function to output all the items, we can use the function list().\n",
    "\n",
    "The following example will clarify this."
   ]
  },
  {
   "cell_type": "code",
   "execution_count": 22,
   "metadata": {},
   "outputs": [
    {
     "name": "stdout",
     "output_type": "stream",
     "text": [
      "range(0, 10)\n",
      "[0, 1, 2, 3, 4, 5, 6, 7, 8, 9]\n",
      "[2, 3, 4, 5, 6, 7]\n",
      "[2, 5, 8, 11, 14, 17] difference of each element\n"
     ]
    }
   ],
   "source": [
    "# Output: range(0, 10)\n",
    "print(range(10))\n",
    "\n",
    "# Output: [0, 1, 2, 3, 4, 5, 6, 7, 8, 9]\n",
    "print(list(range(10)))\n",
    "\n",
    "# Output: [2, 3, 4, 5, 6, 7]\n",
    "print(list(range(2, 8)))\n",
    "\n",
    "# Output: [2, 5, 8, 11, 14, 17]\n",
    "print(list(range(2, 20, 3)),\"difference of each element\")"
   ]
  },
  {
   "cell_type": "markdown",
   "metadata": {},
   "source": [
    "We can use the range() function in for loops to iterate through a sequence of numbers. It can be combined with the len() function to iterate though a sequence using indexing. Here is an example."
   ]
  },
  {
   "cell_type": "code",
   "execution_count": 23,
   "metadata": {},
   "outputs": [
    {
     "name": "stdout",
     "output_type": "stream",
     "text": [
      "I like pop\n",
      "I like rock\n",
      "I like jazz\n",
      "I like pops\n"
     ]
    }
   ],
   "source": [
    "genre = ['pop', 'rock', 'jazz','pops']\n",
    "\n",
    "# iterate over the list using index\n",
    "for i in range(len(genre)):\n",
    "    print(\"I like\", genre[i])"
   ]
  },
  {
   "cell_type": "markdown",
   "metadata": {},
   "source": [
    "### for loop with else\n",
    "A for loop can have an optional else block as well. The else part is executed if the items in the sequence used in for loop exhausts.\n",
    "\n",
    "break statement can be used to stop a for loop. In such case, the else part is ignored.\n",
    "\n",
    "Hence, a for loop's else part runs if no break occurs."
   ]
  },
  {
   "cell_type": "code",
   "execution_count": 24,
   "metadata": {},
   "outputs": [
    {
     "name": "stdout",
     "output_type": "stream",
     "text": [
      "0\n",
      "1\n",
      "5\n",
      "No items left.\n"
     ]
    }
   ],
   "source": [
    "digits = [0, 1, 5]\n",
    "\n",
    "for i in digits:\n",
    "    print(i)\n",
    "else:\n",
    "    print(\"No items left.\")"
   ]
  },
  {
   "cell_type": "markdown",
   "metadata": {},
   "source": [
    "## Python while Loop"
   ]
  },
  {
   "cell_type": "markdown",
   "metadata": {},
   "source": [
    "1. What is while loop in Python?\n",
    "    2. Syntax of while Loop in Python\n",
    "    3. Flowchart of while loop\n",
    "    4. Example: Python while Loop\n",
    "5. while loop with else"
   ]
  },
  {
   "cell_type": "markdown",
   "metadata": {},
   "source": [
    "#### What is while loop in Python?\n",
    "The while loop in Python is used to iterate over a block of code as long as the test expression (condition) is true.\n",
    "\n",
    "We generally use this loop when we don't know beforehand, the number of times to iterate.\n",
    "\n",
    "Syntax of while Loop in Python\n",
    "\n",
    "\n",
    "while test_expression:\n",
    "   \n",
    "   Body of while\n",
    "   \n",
    "   \n",
    "   \n",
    "In while loop, test expression is checked first. The body of the loop is entered only if the test_expression evaluates to True. After one iteration, the test expression is checked again. This process continues until the test_expression evaluates to False.\n",
    "\n",
    "In Python, the body of the while loop is determined through indentation.\n",
    "\n",
    "Body starts with indentation and the first unindented line marks the end.\n",
    "\n",
    "Python interprets any non-zero value as True. None and 0 are interpreted as False."
   ]
  },
  {
   "cell_type": "code",
   "execution_count": null,
   "metadata": {},
   "outputs": [],
   "source": [
    "n = 10\n",
    "\n",
    "# initialize sum and counter\n",
    "sum = 0\n",
    "i = 10\n",
    "\n",
    "while i and n:\n",
    "    sum = sum + i\n",
    "    i = i+1    # update counter\n",
    "\n",
    "# print the sum\n",
    "print(\"The sum is\", sum)"
   ]
  },
  {
   "cell_type": "markdown",
   "metadata": {},
   "source": [
    "#### while loop with else\n",
    "Same as that of for loop, we can have an optional else block with while loop as well.\n",
    "\n",
    "The else part is executed if the condition in the while loop evaluates to False.\n",
    "\n",
    "The while loop can be terminated with a break statement. In such case, the else part is ignored. Hence, a while loop's else part runs if no break occurs and the condition is false.\n",
    "\n",
    "Here is an example to illustrate this."
   ]
  },
  {
   "cell_type": "code",
   "execution_count": 29,
   "metadata": {},
   "outputs": [
    {
     "name": "stdout",
     "output_type": "stream",
     "text": [
      "1\n",
      "2\n",
      "3\n",
      "4\n",
      "5\n"
     ]
    }
   ],
   "source": [
    "i = 1\n",
    "while i<6:\n",
    "  print(i)\n",
    "  i += 1"
   ]
  },
  {
   "cell_type": "code",
   "execution_count": null,
   "metadata": {},
   "outputs": [],
   "source": [
    "n = int(input())\n",
    "while n > 0:\n",
    "    n -= 1  # n = n-1\n",
    "    print(n)"
   ]
  },
  {
   "cell_type": "code",
   "execution_count": null,
   "metadata": {},
   "outputs": [],
   "source": [
    " i = int(input())\n",
    "while i<100 and i!=100:\n",
    "    i+=1\n",
    "    print(i)"
   ]
  },
  {
   "cell_type": "code",
   "execution_count": null,
   "metadata": {},
   "outputs": [],
   "source": [
    "a = ['foo', 'bar', 'baz']\n",
    "#print(a.pop(-1))\n",
    "while a:\n",
    "    print(a.pop(-1))\n",
    "    "
   ]
  },
  {
   "cell_type": "code",
   "execution_count": null,
   "metadata": {},
   "outputs": [],
   "source": [
    "counter = 0\n",
    "\n",
    "while counter < 3:\n",
    "    print(\"Inside loop\")\n",
    "    counter = counter + 1\n",
    "else:\n",
    "    print(\"Inside else\")"
   ]
  },
  {
   "cell_type": "markdown",
   "metadata": {},
   "source": [
    "### Python break and continue"
   ]
  },
  {
   "cell_type": "markdown",
   "metadata": {},
   "source": [
    "#### What is the use of break and continue in Python?\n",
    "1. Python break statement\n",
    "    1. Syntax of break\n",
    "    2. Flowchart of break\n",
    "    3. Example of break\n",
    "2. Python continue statement\n",
    "    1. Syntax of Continue\n",
    "    2. Flowchart of continue\n",
    "    3. Example: Python continue"
   ]
  },
  {
   "cell_type": "markdown",
   "metadata": {},
   "source": [
    "###  What is the use of break and continue in Python?\n",
    "In Python, break and continue statements can alter the flow of a normal loop.\n",
    "\n",
    "Loops iterate over a block of code until test expression is false, but sometimes we wish to terminate the current iteration or even the whole loop without checking test expression.\n",
    "\n",
    "The break and continue statements are used in these cases."
   ]
  },
  {
   "cell_type": "markdown",
   "metadata": {},
   "source": [
    "1. Python break statement\n",
    "\n",
    "\n",
    "The break statement terminates the loop containing it. Control of the program flows to the statement immediately after the body of the loop.\n",
    "\n",
    "If break statement is inside a nested loop (loop inside another loop), break will terminate the innermost loop.\n",
    "\n",
    "Syntax of break\n",
    "\n",
    "\n",
    "break"
   ]
  },
  {
   "cell_type": "code",
   "execution_count": null,
   "metadata": {},
   "outputs": [],
   "source": [
    "for val in \"string\":\n",
    "    if val == \"i\":\n",
    "        break\n",
    "    print(val)\n",
    "\n",
    "print(\"The end\")"
   ]
  },
  {
   "cell_type": "markdown",
   "metadata": {},
   "source": [
    "### Python continue statement\n",
    "The continue statement is used to skip the rest of the code inside a loop for the current iteration only. Loop does not terminate but continues on with the next iteration.\n",
    "\n",
    "Syntax of Continue\n",
    "\n",
    "continue"
   ]
  },
  {
   "cell_type": "code",
   "execution_count": null,
   "metadata": {},
   "outputs": [],
   "source": [
    "\n",
    "for val in \"string\":\n",
    "    if val == \"i\":\n",
    "        continue\n",
    "    print(val)\n",
    "\n",
    "print(\"The end\")"
   ]
  },
  {
   "cell_type": "markdown",
   "metadata": {},
   "source": [
    "#### What is pass statement in Python?\n",
    "In Python programming, pass is a null statement. The difference between a comment and pass statement in Python is that, while the interpreter ignores a comment entirely, pass is not ignored.\n",
    "\n",
    "However, nothing happens when pass is executed. It results into no operation (NOP).\n",
    "\n",
    "Syntax of pass\n",
    "\n",
    "pass"
   ]
  },
  {
   "cell_type": "code",
   "execution_count": null,
   "metadata": {},
   "outputs": [],
   "source": [
    "sequence = {'p', 'a', 's', 's'}\n",
    "for val in sequence:\n",
    "    pass"
   ]
  },
  {
   "cell_type": "code",
   "execution_count": null,
   "metadata": {},
   "outputs": [],
   "source": [
    "Example #1: Infinite loop using while\n",
    "# An example of infinite loop\n",
    "# press Ctrl + c to exit from the loop\n",
    "\n",
    "while True:\n",
    "   num = int(input(\"Enter an integer: \"))\n",
    "   print(\"The double of\",num,\"is\",2 * num)"
   ]
  },
  {
   "cell_type": "code",
   "execution_count": null,
   "metadata": {},
   "outputs": [],
   "source": [
    "# Program to illustrate a loop with condition at the top\n",
    "\n",
    "# Try different numbers\n",
    "n = 10\n",
    "\n",
    "# Uncomment to get user input\n",
    "#n = int(input(\"Enter n: \"))\n",
    "\n",
    "# initialize sum and counter\n",
    "sum = 0\n",
    "i = 1\n",
    "\n",
    "while i <= n:\n",
    "   sum = sum + i\n",
    "   i = i+1    # update counter\n",
    "\n",
    "# print the sum\n",
    "print(\"The sum is\",sum)"
   ]
  },
  {
   "cell_type": "code",
   "execution_count": null,
   "metadata": {},
   "outputs": [],
   "source": [
    "# Program to illustrate a loop with condition in the middle. \n",
    "# Take input from the user untill a vowel is entered\n",
    "\n",
    "vowels = \"aeiouAEIOU\"\n",
    "\n",
    "# infinite loop\n",
    "while True:\n",
    "   v = input(\"Enter a vowel: \")\n",
    "   # condition in the middle\n",
    "   if v in vowels:\n",
    "       break\n",
    "   print(\"That is not a vowel. Try again!\")\n",
    "\n",
    "print(\"Thank you!\")"
   ]
  },
  {
   "cell_type": "code",
   "execution_count": null,
   "metadata": {},
   "outputs": [],
   "source": [
    "# Python program to illustrate a loop with condition at the bottom\n",
    "# Roll a dice untill user chooses to exit\n",
    "\n",
    "# import random module\n",
    "import random\n",
    "\n",
    "while True:\n",
    "   input(\"Press enter to roll the dice\")\n",
    "\n",
    "   # get a number between 1 to 6\n",
    "   num = random.randint(1,6)\n",
    "   print(\"You got\",num)\n",
    "   option = input(\"Roll again?(y/n) \")\n",
    "\n",
    "   # condition\n",
    "   if option == 'n':\n",
    "       break"
   ]
  }
 ],
 "metadata": {
  "kernelspec": {
   "display_name": "Python 3",
   "language": "python",
   "name": "python3"
  },
  "language_info": {
   "codemirror_mode": {
    "name": "ipython",
    "version": 3
   },
   "file_extension": ".py",
   "mimetype": "text/x-python",
   "name": "python",
   "nbconvert_exporter": "python",
   "pygments_lexer": "ipython3",
   "version": "3.5.4"
  }
 },
 "nbformat": 4,
 "nbformat_minor": 2
}
