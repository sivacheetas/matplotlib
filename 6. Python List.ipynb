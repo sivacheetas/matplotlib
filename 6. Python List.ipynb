{
 "cells": [
  {
   "cell_type": "markdown",
   "metadata": {},
   "source": [
    "#  Python DataTypes\n"
   ]
  },
  {
   "cell_type": "markdown",
   "metadata": {},
   "source": [
    "# you will learn about different data types you can use in Python.\n",
    "Data Types in Python\n",
    "1. Python Numbers\n",
    "2. Python List\n",
    "3. Python Tuple\n",
    "5. Python Set\n",
    "6. Python Dictionary\n",
    "7. Conversion between data types"
   ]
  },
  {
   "cell_type": "markdown",
   "metadata": {},
   "source": [
    "# Python List\n",
    "In this article, we'll learn everything about Python lists; how they are created, slicing of a list, adding or removing elements from them and so on.\n"
   ]
  },
  {
   "cell_type": "markdown",
   "metadata": {},
   "source": [
    "1. How to create a list?\n",
    "2. How to access elements from a list?\n",
    "        List Index\n",
    "        Negative Indexing\n",
    "3. How to slice lists in Python?\n",
    "4. How to change or add elements to a list?\n",
    "5. How to delete or remove elements from a list?\n",
    "6. Python List Methods\n",
    "7. List Comprehension\n",
    "8. Other List Operations in Python\n",
    "       List Membership Test\n",
    "       Iterating Through a List\n",
    "       Built-in Functions with List\n",
    "       \n",
    " Python offers a range of compound datatypes often referred to as sequences. List is one of the most frequently used and very versatile datatype used in Python."
   ]
  },
  {
   "cell_type": "markdown",
   "metadata": {},
   "source": [
    "# How to create a list?"
   ]
  },
  {
   "cell_type": "markdown",
   "metadata": {},
   "source": [
    "In Python programming, a list is created by placing all the items (elements) inside a square bracket [ ], separated by commas.\n",
    "\n",
    "It can have any number of items and they may be of different types (integer, float, string, Complex etc.).\n"
   ]
  },
  {
   "cell_type": "code",
   "execution_count": 19,
   "metadata": {},
   "outputs": [
    {
     "name": "stdout",
     "output_type": "stream",
     "text": [
      "[]\n",
      "[1, 2, 3]\n",
      "[1, 'Hello', 3.4, (3+2j)]\n"
     ]
    }
   ],
   "source": [
    "# empty list\n",
    "list = []\n",
    "print(list)\n",
    "\n",
    "# list of integers\n",
    "int_list = [1, 2, 3]\n",
    "print(int_list)\n",
    "\n",
    "# list with mixed datatypes\n",
    "mixed_list = [1, \"Hello\", 3.4, 2j+3]\n",
    "print(mixed_list)"
   ]
  },
  {
   "cell_type": "markdown",
   "metadata": {},
   "source": [
    " Also, a list can even have another list as an item. This is called nested list."
   ]
  },
  {
   "cell_type": "code",
   "execution_count": 12,
   "metadata": {},
   "outputs": [
    {
     "name": "stdout",
     "output_type": "stream",
     "text": [
      "['mouse', [8, 4, 6], ['a']]\n"
     ]
    }
   ],
   "source": [
    "# nested list\n",
    "nested_list = [\"mouse\", [8, 4, 6], ['a']]\n",
    "print(nested_list)"
   ]
  },
  {
   "cell_type": "markdown",
   "metadata": {},
   "source": [
    "# How to access elements from a list?\n",
    "There are various ways in which we can access the elements of a list."
   ]
  },
  {
   "cell_type": "markdown",
   "metadata": {},
   "source": [
    "List Index\n",
    "We can use the index operator [] to access an item in a list. Index starts from 0. So, a list having 5 elements will have index from 0 to 4.\n",
    "\n",
    "Trying to access an element other that this will raise an IndexError. The index must be an integer. We can't use float or other types, this will result into TypeError.\n",
    "\n",
    "Nested list are accessed using nested indexing."
   ]
  },
  {
   "cell_type": "code",
   "execution_count": 3,
   "metadata": {},
   "outputs": [
    {
     "name": "stdout",
     "output_type": "stream",
     "text": [
      "p\n",
      "hello\n",
      "o\n",
      "e\n",
      "['r', 'o', 'b', 'e']\n",
      "a\n",
      "5\n"
     ]
    }
   ],
   "source": [
    "my_list = ['p','r','o','b','e', \"hello\"]\n",
    "# Output: p\n",
    "print(my_list[0])\n",
    "print(my_list[-1])\n",
    "\n",
    "# Output: o\n",
    "print(my_list[2])\n",
    "\n",
    "# Output: e\n",
    "print(my_list[4])\n",
    "print(my_list[1:5])\n",
    "\n",
    "# Error! Only integer can be used for indexing\n",
    "# my_list[4.0]\n",
    "\n",
    "# Nested List\n",
    "n_list = [\"Happy\", [2,0,1,5]]\n",
    "\n",
    "# Nested indexing\n",
    "\n",
    "# Output: a\n",
    "print(n_list[0][1])    \n",
    "\n",
    "# Output: 5\n",
    "print(n_list[1][3])\n"
   ]
  },
  {
   "cell_type": "markdown",
   "metadata": {},
   "source": [
    "Negative indexing\n",
    "Python allows negative indexing for its sequences. The index of -1 refers to the last item, -2 to the second last item and so on."
   ]
  },
  {
   "cell_type": "code",
   "execution_count": 15,
   "metadata": {},
   "outputs": [
    {
     "name": "stdout",
     "output_type": "stream",
     "text": [
      "e\n",
      "p\n"
     ]
    }
   ],
   "source": [
    "my_list = ['p','r','o','b','e']\n",
    "\n",
    "# Output: e\n",
    "print(my_list[-1])\n",
    "\n",
    "# Output: p\n",
    "print(my_list[-5])"
   ]
  },
  {
   "cell_type": "markdown",
   "metadata": {},
   "source": [
    "# How to slice lists in Python?"
   ]
  },
  {
   "cell_type": "markdown",
   "metadata": {},
   "source": [
    "We can access a range of items in a list by using the slicing operator (colon)."
   ]
  },
  {
   "cell_type": "code",
   "execution_count": 5,
   "metadata": {},
   "outputs": [
    {
     "name": "stdout",
     "output_type": "stream",
     "text": [
      "['o', 'g', 'r']\n",
      "['p', 'r', 'o', 'g']\n",
      "['a', 'm', 'i', 'z']\n",
      "['p', 'r', 'o', 'g', 'r', 'a', 'm', 'i', 'z']\n"
     ]
    }
   ],
   "source": [
    "my_list = ['p','r','o','g','r','a','m','i','z']\n",
    "# elements 3rd to 5th\n",
    "print(my_list[2:5])\n",
    "\n",
    "# elements beginning to 4th\n",
    "print(my_list[:-5])\n",
    "\n",
    "# elements 6th to end\n",
    "print(my_list[5:])\n",
    "\n",
    "# elements beginning to end\n",
    "print(my_list[:])"
   ]
  },
  {
   "cell_type": "markdown",
   "metadata": {},
   "source": [
    "Slicing can be best visualized by considering the index to be between the elements as shown below. So if we want to access a range, we need two index that will slice that portion from the list."
   ]
  },
  {
   "cell_type": "markdown",
   "metadata": {},
   "source": [
    "# List Methods:"
   ]
  },
  {
   "cell_type": "markdown",
   "metadata": {},
   "source": [
    "Python has some list methods that you can use to perform frequency occurring task (related to list) with ease. For example, if you want to add element to a list, you can use append() method.\n",
    "\n",
    "The page contains all methods of list objects. Also, the page includes built-in functions that can take list as a parameter and perform some task. For example, all() function returns True if all elements of an list (iterable) is true. If not, it returns False."
   ]
  },
  {
   "cell_type": "markdown",
   "metadata": {},
   "source": [
    "Method\tDescription\n",
    "append()\tAdd Single Element to The List\n",
    "extend()\tAdd Elements of a List to Another List\n",
    "insert()\tInserts Element to The List\n",
    "remove()\tRemoves Element from the List\n",
    "index()\treturns smallest index of element in list\n",
    "count()\treturns occurrences of element in a list\n",
    "pop()\tRemoves Element at Given Index\n",
    "reverse()\tReverses a List\n",
    "sort()\tsorts elements of a list\n",
    "copy()\tReturns Shallow Copy of a List\n",
    "clear()\tRemoves all Items from the List\n",
    "any()\tChecks if any Element of an Iterable is True\n",
    "all()\treturns true when all elements in iterable is true\n",
    "ascii()\tReturns String Containing Printable Representation\n",
    "bool()\tConverts a Value to Boolean\n",
    "enumerate()\tReturns an Enumerate Object\n",
    "filter()\tconstructs iterator from elements which are true\n",
    "iter()\treturns iterator for an object\n",
    "list() Function\tcreates list in Python\n",
    "len()\tReturns Length of an Object\n",
    "max()\treturns largest element\n",
    "min()\treturns smallest element\n",
    "map()\tApplies Function and Returns a List\n",
    "reversed()\treturns reversed iterator of a sequence\n",
    "slice()\tcreates a slice object specified by range()\n",
    "sorted()\treturns sorted list from a given iterable\n",
    "sum()\tAdd items of an Iterable\n",
    "zip()\tReturns an Iterator of Tuples"
   ]
  },
  {
   "cell_type": "code",
   "execution_count": 2,
   "metadata": {},
   "outputs": [
    {
     "name": "stdout",
     "output_type": "stream",
     "text": [
      "['P', 'y']\n"
     ]
    }
   ],
   "source": [
    "language = ['P', 'y', 't', 'h', 'o', 'n']\n",
    "print(language[:-4])"
   ]
  },
  {
   "cell_type": "code",
   "execution_count": 4,
   "metadata": {},
   "outputs": [
    {
     "name": "stdout",
     "output_type": "stream",
     "text": [
      "(1, 2, 3, 4)\n"
     ]
    }
   ],
   "source": [
    "print((1, 2) + (3, 4))"
   ]
  },
  {
   "cell_type": "code",
   "execution_count": 16,
   "metadata": {},
   "outputs": [
    {
     "name": "stdout",
     "output_type": "stream",
     "text": [
      "Bill, Sean and John\n"
     ]
    }
   ],
   "source": [
    "names = \"{1}, {2} and {0}\".format('John', 'Bill', 'Sean')\n",
    "print(names)"
   ]
  },
  {
   "cell_type": "code",
   "execution_count": 21,
   "metadata": {},
   "outputs": [
    {
     "name": "stdout",
     "output_type": "stream",
     "text": [
      "{'one': 1, 'two': 3}\n",
      "{'one': 1, 'two': 2}\n"
     ]
    }
   ],
   "source": [
    "num = {'one': 1, 'two': 3}\n",
    "print(num)\n",
    "num['two']=2\n",
    "print(num)"
   ]
  },
  {
   "cell_type": "code",
   "execution_count": 22,
   "metadata": {},
   "outputs": [
    {
     "name": "stdout",
     "output_type": "stream",
     "text": [
      "16\n",
      "{1: 1, 2: 4, 3: 9, 5: 25}\n"
     ]
    }
   ],
   "source": [
    "squares = {1:1, 2:4, 3:9, 4:16, 5:25}  \n",
    "\n",
    "print(squares.pop(4))  \n",
    "print(squares)"
   ]
  }
 ],
 "metadata": {
  "kernelspec": {
   "display_name": "Python 3",
   "language": "python",
   "name": "python3"
  },
  "language_info": {
   "codemirror_mode": {
    "name": "ipython",
    "version": 3
   },
   "file_extension": ".py",
   "mimetype": "text/x-python",
   "name": "python",
   "nbconvert_exporter": "python",
   "pygments_lexer": "ipython3",
   "version": "3.5.4"
  }
 },
 "nbformat": 4,
 "nbformat_minor": 2
}
